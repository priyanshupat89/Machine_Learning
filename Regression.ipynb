{
 "cells": [
  {
   "cell_type": "code",
   "execution_count": 70,
   "id": "e8d95313",
   "metadata": {},
   "outputs": [],
   "source": [
    "import pandas as pd \n",
    "import seaborn as sns\n",
    "import matplotlib.pyplot as plt\n",
    "import numpy as np\n",
    "\n",
    "from sklearn.model_selection import train_test_split\n",
    "from sklearn.preprocessing import StandardScaler"
   ]
  },
  {
   "cell_type": "code",
   "execution_count": 71,
   "id": "7ae79e90",
   "metadata": {},
   "outputs": [],
   "source": [
    "raw_data=pd.read_csv('Downloads/MobilePriceRange.csv')"
   ]
  },
  {
   "cell_type": "code",
   "execution_count": 72,
   "id": "db304e97",
   "metadata": {},
   "outputs": [
    {
     "data": {
      "text/html": [
       "<div>\n",
       "<style scoped>\n",
       "    .dataframe tbody tr th:only-of-type {\n",
       "        vertical-align: middle;\n",
       "    }\n",
       "\n",
       "    .dataframe tbody tr th {\n",
       "        vertical-align: top;\n",
       "    }\n",
       "\n",
       "    .dataframe thead th {\n",
       "        text-align: right;\n",
       "    }\n",
       "</style>\n",
       "<table border=\"1\" class=\"dataframe\">\n",
       "  <thead>\n",
       "    <tr style=\"text-align: right;\">\n",
       "      <th></th>\n",
       "      <th>battery_power</th>\n",
       "      <th>int_memory</th>\n",
       "      <th>fc</th>\n",
       "      <th>n_cores</th>\n",
       "      <th>ram</th>\n",
       "      <th>talk_time</th>\n",
       "      <th>dual_sim</th>\n",
       "      <th>wifi</th>\n",
       "      <th>pc</th>\n",
       "      <th>mobile_wt</th>\n",
       "      <th>price_range</th>\n",
       "    </tr>\n",
       "  </thead>\n",
       "  <tbody>\n",
       "    <tr>\n",
       "      <th>0</th>\n",
       "      <td>842</td>\n",
       "      <td>7</td>\n",
       "      <td>1</td>\n",
       "      <td>2</td>\n",
       "      <td>2549</td>\n",
       "      <td>19</td>\n",
       "      <td>0</td>\n",
       "      <td>1</td>\n",
       "      <td>2</td>\n",
       "      <td>188</td>\n",
       "      <td>Medium</td>\n",
       "    </tr>\n",
       "    <tr>\n",
       "      <th>1</th>\n",
       "      <td>1021</td>\n",
       "      <td>53</td>\n",
       "      <td>0</td>\n",
       "      <td>3</td>\n",
       "      <td>2631</td>\n",
       "      <td>7</td>\n",
       "      <td>1</td>\n",
       "      <td>0</td>\n",
       "      <td>6</td>\n",
       "      <td>136</td>\n",
       "      <td>High</td>\n",
       "    </tr>\n",
       "    <tr>\n",
       "      <th>2</th>\n",
       "      <td>563</td>\n",
       "      <td>41</td>\n",
       "      <td>2</td>\n",
       "      <td>5</td>\n",
       "      <td>2603</td>\n",
       "      <td>9</td>\n",
       "      <td>1</td>\n",
       "      <td>0</td>\n",
       "      <td>6</td>\n",
       "      <td>145</td>\n",
       "      <td>High</td>\n",
       "    </tr>\n",
       "    <tr>\n",
       "      <th>3</th>\n",
       "      <td>615</td>\n",
       "      <td>10</td>\n",
       "      <td>0</td>\n",
       "      <td>6</td>\n",
       "      <td>2769</td>\n",
       "      <td>11</td>\n",
       "      <td>0</td>\n",
       "      <td>0</td>\n",
       "      <td>9</td>\n",
       "      <td>131</td>\n",
       "      <td>High</td>\n",
       "    </tr>\n",
       "    <tr>\n",
       "      <th>4</th>\n",
       "      <td>1821</td>\n",
       "      <td>44</td>\n",
       "      <td>13</td>\n",
       "      <td>2</td>\n",
       "      <td>1411</td>\n",
       "      <td>15</td>\n",
       "      <td>0</td>\n",
       "      <td>0</td>\n",
       "      <td>14</td>\n",
       "      <td>141</td>\n",
       "      <td>Medium</td>\n",
       "    </tr>\n",
       "    <tr>\n",
       "      <th>5</th>\n",
       "      <td>1859</td>\n",
       "      <td>22</td>\n",
       "      <td>3</td>\n",
       "      <td>1</td>\n",
       "      <td>1067</td>\n",
       "      <td>10</td>\n",
       "      <td>1</td>\n",
       "      <td>0</td>\n",
       "      <td>7</td>\n",
       "      <td>164</td>\n",
       "      <td>Medium</td>\n",
       "    </tr>\n",
       "    <tr>\n",
       "      <th>6</th>\n",
       "      <td>1821</td>\n",
       "      <td>10</td>\n",
       "      <td>4</td>\n",
       "      <td>8</td>\n",
       "      <td>3220</td>\n",
       "      <td>18</td>\n",
       "      <td>0</td>\n",
       "      <td>1</td>\n",
       "      <td>10</td>\n",
       "      <td>139</td>\n",
       "      <td>VeryHigh</td>\n",
       "    </tr>\n",
       "    <tr>\n",
       "      <th>7</th>\n",
       "      <td>1954</td>\n",
       "      <td>24</td>\n",
       "      <td>0</td>\n",
       "      <td>4</td>\n",
       "      <td>700</td>\n",
       "      <td>5</td>\n",
       "      <td>1</td>\n",
       "      <td>1</td>\n",
       "      <td>0</td>\n",
       "      <td>187</td>\n",
       "      <td>Low</td>\n",
       "    </tr>\n",
       "    <tr>\n",
       "      <th>8</th>\n",
       "      <td>1445</td>\n",
       "      <td>53</td>\n",
       "      <td>0</td>\n",
       "      <td>7</td>\n",
       "      <td>1099</td>\n",
       "      <td>20</td>\n",
       "      <td>0</td>\n",
       "      <td>0</td>\n",
       "      <td>14</td>\n",
       "      <td>174</td>\n",
       "      <td>Low</td>\n",
       "    </tr>\n",
       "    <tr>\n",
       "      <th>9</th>\n",
       "      <td>509</td>\n",
       "      <td>9</td>\n",
       "      <td>2</td>\n",
       "      <td>5</td>\n",
       "      <td>513</td>\n",
       "      <td>12</td>\n",
       "      <td>1</td>\n",
       "      <td>0</td>\n",
       "      <td>15</td>\n",
       "      <td>93</td>\n",
       "      <td>Low</td>\n",
       "    </tr>\n",
       "    <tr>\n",
       "      <th>10</th>\n",
       "      <td>769</td>\n",
       "      <td>9</td>\n",
       "      <td>0</td>\n",
       "      <td>5</td>\n",
       "      <td>3946</td>\n",
       "      <td>7</td>\n",
       "      <td>1</td>\n",
       "      <td>0</td>\n",
       "      <td>1</td>\n",
       "      <td>182</td>\n",
       "      <td>VeryHigh</td>\n",
       "    </tr>\n",
       "    <tr>\n",
       "      <th>11</th>\n",
       "      <td>1520</td>\n",
       "      <td>33</td>\n",
       "      <td>5</td>\n",
       "      <td>8</td>\n",
       "      <td>3826</td>\n",
       "      <td>13</td>\n",
       "      <td>0</td>\n",
       "      <td>1</td>\n",
       "      <td>18</td>\n",
       "      <td>177</td>\n",
       "      <td>VeryHigh</td>\n",
       "    </tr>\n",
       "    <tr>\n",
       "      <th>12</th>\n",
       "      <td>1815</td>\n",
       "      <td>33</td>\n",
       "      <td>2</td>\n",
       "      <td>4</td>\n",
       "      <td>1482</td>\n",
       "      <td>2</td>\n",
       "      <td>0</td>\n",
       "      <td>0</td>\n",
       "      <td>17</td>\n",
       "      <td>159</td>\n",
       "      <td>Medium</td>\n",
       "    </tr>\n",
       "    <tr>\n",
       "      <th>13</th>\n",
       "      <td>803</td>\n",
       "      <td>17</td>\n",
       "      <td>7</td>\n",
       "      <td>4</td>\n",
       "      <td>2680</td>\n",
       "      <td>4</td>\n",
       "      <td>0</td>\n",
       "      <td>1</td>\n",
       "      <td>11</td>\n",
       "      <td>198</td>\n",
       "      <td>High</td>\n",
       "    </tr>\n",
       "    <tr>\n",
       "      <th>14</th>\n",
       "      <td>1866</td>\n",
       "      <td>52</td>\n",
       "      <td>13</td>\n",
       "      <td>1</td>\n",
       "      <td>373</td>\n",
       "      <td>3</td>\n",
       "      <td>0</td>\n",
       "      <td>1</td>\n",
       "      <td>17</td>\n",
       "      <td>185</td>\n",
       "      <td>Low</td>\n",
       "    </tr>\n",
       "    <tr>\n",
       "      <th>15</th>\n",
       "      <td>775</td>\n",
       "      <td>46</td>\n",
       "      <td>3</td>\n",
       "      <td>2</td>\n",
       "      <td>568</td>\n",
       "      <td>11</td>\n",
       "      <td>0</td>\n",
       "      <td>1</td>\n",
       "      <td>16</td>\n",
       "      <td>159</td>\n",
       "      <td>Low</td>\n",
       "    </tr>\n",
       "    <tr>\n",
       "      <th>16</th>\n",
       "      <td>838</td>\n",
       "      <td>13</td>\n",
       "      <td>1</td>\n",
       "      <td>8</td>\n",
       "      <td>3554</td>\n",
       "      <td>19</td>\n",
       "      <td>0</td>\n",
       "      <td>1</td>\n",
       "      <td>4</td>\n",
       "      <td>196</td>\n",
       "      <td>VeryHigh</td>\n",
       "    </tr>\n",
       "  </tbody>\n",
       "</table>\n",
       "</div>"
      ],
      "text/plain": [
       "    battery_power  int_memory  fc  n_cores   ram  talk_time  dual_sim  wifi  \\\n",
       "0             842           7   1        2  2549         19         0     1   \n",
       "1            1021          53   0        3  2631          7         1     0   \n",
       "2             563          41   2        5  2603          9         1     0   \n",
       "3             615          10   0        6  2769         11         0     0   \n",
       "4            1821          44  13        2  1411         15         0     0   \n",
       "5            1859          22   3        1  1067         10         1     0   \n",
       "6            1821          10   4        8  3220         18         0     1   \n",
       "7            1954          24   0        4   700          5         1     1   \n",
       "8            1445          53   0        7  1099         20         0     0   \n",
       "9             509           9   2        5   513         12         1     0   \n",
       "10            769           9   0        5  3946          7         1     0   \n",
       "11           1520          33   5        8  3826         13         0     1   \n",
       "12           1815          33   2        4  1482          2         0     0   \n",
       "13            803          17   7        4  2680          4         0     1   \n",
       "14           1866          52  13        1   373          3         0     1   \n",
       "15            775          46   3        2   568         11         0     1   \n",
       "16            838          13   1        8  3554         19         0     1   \n",
       "\n",
       "    pc  mobile_wt price_range  \n",
       "0    2        188      Medium  \n",
       "1    6        136        High  \n",
       "2    6        145        High  \n",
       "3    9        131        High  \n",
       "4   14        141      Medium  \n",
       "5    7        164      Medium  \n",
       "6   10        139    VeryHigh  \n",
       "7    0        187         Low  \n",
       "8   14        174         Low  \n",
       "9   15         93         Low  \n",
       "10   1        182    VeryHigh  \n",
       "11  18        177    VeryHigh  \n",
       "12  17        159      Medium  \n",
       "13  11        198        High  \n",
       "14  17        185         Low  \n",
       "15  16        159         Low  \n",
       "16   4        196    VeryHigh  "
      ]
     },
     "execution_count": 72,
     "metadata": {},
     "output_type": "execute_result"
    }
   ],
   "source": [
    "raw_data.head(17)"
   ]
  },
  {
   "cell_type": "markdown",
   "id": "8951508e",
   "metadata": {},
   "source": [
    "# Check missing values"
   ]
  },
  {
   "cell_type": "code",
   "execution_count": 73,
   "id": "58b5ab39",
   "metadata": {},
   "outputs": [
    {
     "data": {
      "text/plain": [
       "battery_power    0\n",
       "int_memory       0\n",
       "fc               0\n",
       "n_cores          0\n",
       "ram              0\n",
       "talk_time        0\n",
       "dual_sim         0\n",
       "wifi             0\n",
       "pc               0\n",
       "mobile_wt        0\n",
       "price_range      0\n",
       "dtype: int64"
      ]
     },
     "execution_count": 73,
     "metadata": {},
     "output_type": "execute_result"
    }
   ],
   "source": [
    "raw_data.isnull().sum()"
   ]
  },
  {
   "cell_type": "code",
   "execution_count": 74,
   "id": "a231cae7",
   "metadata": {},
   "outputs": [
    {
     "name": "stdout",
     "output_type": "stream",
     "text": [
      "<class 'pandas.core.frame.DataFrame'>\n",
      "RangeIndex: 2000 entries, 0 to 1999\n",
      "Data columns (total 11 columns):\n",
      " #   Column         Non-Null Count  Dtype \n",
      "---  ------         --------------  ----- \n",
      " 0   battery_power  2000 non-null   int64 \n",
      " 1   int_memory     2000 non-null   int64 \n",
      " 2   fc             2000 non-null   int64 \n",
      " 3   n_cores        2000 non-null   int64 \n",
      " 4   ram            2000 non-null   int64 \n",
      " 5   talk_time      2000 non-null   int64 \n",
      " 6   dual_sim       2000 non-null   int64 \n",
      " 7   wifi           2000 non-null   int64 \n",
      " 8   pc             2000 non-null   int64 \n",
      " 9   mobile_wt      2000 non-null   int64 \n",
      " 10  price_range    2000 non-null   object\n",
      "dtypes: int64(10), object(1)\n",
      "memory usage: 172.0+ KB\n"
     ]
    }
   ],
   "source": [
    "raw_data.info()"
   ]
  },
  {
   "cell_type": "markdown",
   "id": "8e18449a",
   "metadata": {},
   "source": [
    "# Encoding"
   ]
  },
  {
   "cell_type": "code",
   "execution_count": 75,
   "id": "6c3c00a8",
   "metadata": {
    "scrolled": true
   },
   "outputs": [
    {
     "data": {
      "text/html": [
       "<div>\n",
       "<style scoped>\n",
       "    .dataframe tbody tr th:only-of-type {\n",
       "        vertical-align: middle;\n",
       "    }\n",
       "\n",
       "    .dataframe tbody tr th {\n",
       "        vertical-align: top;\n",
       "    }\n",
       "\n",
       "    .dataframe thead th {\n",
       "        text-align: right;\n",
       "    }\n",
       "</style>\n",
       "<table border=\"1\" class=\"dataframe\">\n",
       "  <thead>\n",
       "    <tr style=\"text-align: right;\">\n",
       "      <th></th>\n",
       "      <th>battery_power</th>\n",
       "      <th>int_memory</th>\n",
       "      <th>fc</th>\n",
       "      <th>n_cores</th>\n",
       "      <th>ram</th>\n",
       "      <th>talk_time</th>\n",
       "      <th>dual_sim</th>\n",
       "      <th>wifi</th>\n",
       "      <th>pc</th>\n",
       "      <th>mobile_wt</th>\n",
       "      <th>price_range</th>\n",
       "    </tr>\n",
       "  </thead>\n",
       "  <tbody>\n",
       "    <tr>\n",
       "      <th>0</th>\n",
       "      <td>842</td>\n",
       "      <td>7</td>\n",
       "      <td>1</td>\n",
       "      <td>2</td>\n",
       "      <td>2549</td>\n",
       "      <td>19</td>\n",
       "      <td>0</td>\n",
       "      <td>1</td>\n",
       "      <td>2</td>\n",
       "      <td>188</td>\n",
       "      <td>1</td>\n",
       "    </tr>\n",
       "    <tr>\n",
       "      <th>1</th>\n",
       "      <td>1021</td>\n",
       "      <td>53</td>\n",
       "      <td>0</td>\n",
       "      <td>3</td>\n",
       "      <td>2631</td>\n",
       "      <td>7</td>\n",
       "      <td>1</td>\n",
       "      <td>0</td>\n",
       "      <td>6</td>\n",
       "      <td>136</td>\n",
       "      <td>2</td>\n",
       "    </tr>\n",
       "    <tr>\n",
       "      <th>2</th>\n",
       "      <td>563</td>\n",
       "      <td>41</td>\n",
       "      <td>2</td>\n",
       "      <td>5</td>\n",
       "      <td>2603</td>\n",
       "      <td>9</td>\n",
       "      <td>1</td>\n",
       "      <td>0</td>\n",
       "      <td>6</td>\n",
       "      <td>145</td>\n",
       "      <td>2</td>\n",
       "    </tr>\n",
       "    <tr>\n",
       "      <th>3</th>\n",
       "      <td>615</td>\n",
       "      <td>10</td>\n",
       "      <td>0</td>\n",
       "      <td>6</td>\n",
       "      <td>2769</td>\n",
       "      <td>11</td>\n",
       "      <td>0</td>\n",
       "      <td>0</td>\n",
       "      <td>9</td>\n",
       "      <td>131</td>\n",
       "      <td>2</td>\n",
       "    </tr>\n",
       "    <tr>\n",
       "      <th>4</th>\n",
       "      <td>1821</td>\n",
       "      <td>44</td>\n",
       "      <td>13</td>\n",
       "      <td>2</td>\n",
       "      <td>1411</td>\n",
       "      <td>15</td>\n",
       "      <td>0</td>\n",
       "      <td>0</td>\n",
       "      <td>14</td>\n",
       "      <td>141</td>\n",
       "      <td>1</td>\n",
       "    </tr>\n",
       "    <tr>\n",
       "      <th>5</th>\n",
       "      <td>1859</td>\n",
       "      <td>22</td>\n",
       "      <td>3</td>\n",
       "      <td>1</td>\n",
       "      <td>1067</td>\n",
       "      <td>10</td>\n",
       "      <td>1</td>\n",
       "      <td>0</td>\n",
       "      <td>7</td>\n",
       "      <td>164</td>\n",
       "      <td>1</td>\n",
       "    </tr>\n",
       "    <tr>\n",
       "      <th>6</th>\n",
       "      <td>1821</td>\n",
       "      <td>10</td>\n",
       "      <td>4</td>\n",
       "      <td>8</td>\n",
       "      <td>3220</td>\n",
       "      <td>18</td>\n",
       "      <td>0</td>\n",
       "      <td>1</td>\n",
       "      <td>10</td>\n",
       "      <td>139</td>\n",
       "      <td>3</td>\n",
       "    </tr>\n",
       "    <tr>\n",
       "      <th>7</th>\n",
       "      <td>1954</td>\n",
       "      <td>24</td>\n",
       "      <td>0</td>\n",
       "      <td>4</td>\n",
       "      <td>700</td>\n",
       "      <td>5</td>\n",
       "      <td>1</td>\n",
       "      <td>1</td>\n",
       "      <td>0</td>\n",
       "      <td>187</td>\n",
       "      <td>0</td>\n",
       "    </tr>\n",
       "    <tr>\n",
       "      <th>8</th>\n",
       "      <td>1445</td>\n",
       "      <td>53</td>\n",
       "      <td>0</td>\n",
       "      <td>7</td>\n",
       "      <td>1099</td>\n",
       "      <td>20</td>\n",
       "      <td>0</td>\n",
       "      <td>0</td>\n",
       "      <td>14</td>\n",
       "      <td>174</td>\n",
       "      <td>0</td>\n",
       "    </tr>\n",
       "    <tr>\n",
       "      <th>9</th>\n",
       "      <td>509</td>\n",
       "      <td>9</td>\n",
       "      <td>2</td>\n",
       "      <td>5</td>\n",
       "      <td>513</td>\n",
       "      <td>12</td>\n",
       "      <td>1</td>\n",
       "      <td>0</td>\n",
       "      <td>15</td>\n",
       "      <td>93</td>\n",
       "      <td>0</td>\n",
       "    </tr>\n",
       "  </tbody>\n",
       "</table>\n",
       "</div>"
      ],
      "text/plain": [
       "   battery_power  int_memory  fc  n_cores   ram  talk_time  dual_sim  wifi  \\\n",
       "0            842           7   1        2  2549         19         0     1   \n",
       "1           1021          53   0        3  2631          7         1     0   \n",
       "2            563          41   2        5  2603          9         1     0   \n",
       "3            615          10   0        6  2769         11         0     0   \n",
       "4           1821          44  13        2  1411         15         0     0   \n",
       "5           1859          22   3        1  1067         10         1     0   \n",
       "6           1821          10   4        8  3220         18         0     1   \n",
       "7           1954          24   0        4   700          5         1     1   \n",
       "8           1445          53   0        7  1099         20         0     0   \n",
       "9            509           9   2        5   513         12         1     0   \n",
       "\n",
       "   pc  mobile_wt  price_range  \n",
       "0   2        188            1  \n",
       "1   6        136            2  \n",
       "2   6        145            2  \n",
       "3   9        131            2  \n",
       "4  14        141            1  \n",
       "5   7        164            1  \n",
       "6  10        139            3  \n",
       "7   0        187            0  \n",
       "8  14        174            0  \n",
       "9  15         93            0  "
      ]
     },
     "execution_count": 75,
     "metadata": {},
     "output_type": "execute_result"
    }
   ],
   "source": [
    "price_range_encoding = {'Low': 0,'Medium': 1,'High': 2,'VeryHigh': 3}\n",
    "\n",
    "\n",
    "raw_data['EncodedPrice'] = raw_data['price_range'].map(price_range_encoding)\n",
    "\n",
    "raw_data.drop('price_range',axis=1,inplace=True)\n",
    "raw_data = raw_data.rename(columns={'EncodedPrice': 'price_range'})\n",
    "\n",
    "raw_data.head(10)"
   ]
  },
  {
   "cell_type": "code",
   "execution_count": 76,
   "id": "5ba4bb2a",
   "metadata": {},
   "outputs": [
    {
     "data": {
      "text/html": [
       "<div>\n",
       "<style scoped>\n",
       "    .dataframe tbody tr th:only-of-type {\n",
       "        vertical-align: middle;\n",
       "    }\n",
       "\n",
       "    .dataframe tbody tr th {\n",
       "        vertical-align: top;\n",
       "    }\n",
       "\n",
       "    .dataframe thead th {\n",
       "        text-align: right;\n",
       "    }\n",
       "</style>\n",
       "<table border=\"1\" class=\"dataframe\">\n",
       "  <thead>\n",
       "    <tr style=\"text-align: right;\">\n",
       "      <th></th>\n",
       "      <th>battery_power</th>\n",
       "      <th>int_memory</th>\n",
       "      <th>fc</th>\n",
       "      <th>n_cores</th>\n",
       "      <th>ram</th>\n",
       "      <th>talk_time</th>\n",
       "      <th>dual_sim</th>\n",
       "      <th>wifi</th>\n",
       "      <th>pc</th>\n",
       "      <th>mobile_wt</th>\n",
       "      <th>price_range</th>\n",
       "    </tr>\n",
       "  </thead>\n",
       "  <tbody>\n",
       "    <tr>\n",
       "      <th>count</th>\n",
       "      <td>2000.000000</td>\n",
       "      <td>2000.000000</td>\n",
       "      <td>2000.000000</td>\n",
       "      <td>2000.000000</td>\n",
       "      <td>2000.000000</td>\n",
       "      <td>2000.000000</td>\n",
       "      <td>2000.000000</td>\n",
       "      <td>2000.000000</td>\n",
       "      <td>2000.000000</td>\n",
       "      <td>2000.000000</td>\n",
       "      <td>2000.000000</td>\n",
       "    </tr>\n",
       "    <tr>\n",
       "      <th>mean</th>\n",
       "      <td>1238.518500</td>\n",
       "      <td>32.046500</td>\n",
       "      <td>4.309500</td>\n",
       "      <td>4.520500</td>\n",
       "      <td>2124.213000</td>\n",
       "      <td>11.011000</td>\n",
       "      <td>0.509500</td>\n",
       "      <td>0.507000</td>\n",
       "      <td>9.916500</td>\n",
       "      <td>140.249000</td>\n",
       "      <td>1.500000</td>\n",
       "    </tr>\n",
       "    <tr>\n",
       "      <th>std</th>\n",
       "      <td>439.418206</td>\n",
       "      <td>18.145715</td>\n",
       "      <td>4.341444</td>\n",
       "      <td>2.287837</td>\n",
       "      <td>1084.732044</td>\n",
       "      <td>5.463955</td>\n",
       "      <td>0.500035</td>\n",
       "      <td>0.500076</td>\n",
       "      <td>6.064315</td>\n",
       "      <td>35.399655</td>\n",
       "      <td>1.118314</td>\n",
       "    </tr>\n",
       "    <tr>\n",
       "      <th>min</th>\n",
       "      <td>501.000000</td>\n",
       "      <td>2.000000</td>\n",
       "      <td>0.000000</td>\n",
       "      <td>1.000000</td>\n",
       "      <td>256.000000</td>\n",
       "      <td>2.000000</td>\n",
       "      <td>0.000000</td>\n",
       "      <td>0.000000</td>\n",
       "      <td>0.000000</td>\n",
       "      <td>80.000000</td>\n",
       "      <td>0.000000</td>\n",
       "    </tr>\n",
       "    <tr>\n",
       "      <th>25%</th>\n",
       "      <td>851.750000</td>\n",
       "      <td>16.000000</td>\n",
       "      <td>1.000000</td>\n",
       "      <td>3.000000</td>\n",
       "      <td>1207.500000</td>\n",
       "      <td>6.000000</td>\n",
       "      <td>0.000000</td>\n",
       "      <td>0.000000</td>\n",
       "      <td>5.000000</td>\n",
       "      <td>109.000000</td>\n",
       "      <td>0.750000</td>\n",
       "    </tr>\n",
       "    <tr>\n",
       "      <th>50%</th>\n",
       "      <td>1226.000000</td>\n",
       "      <td>32.000000</td>\n",
       "      <td>3.000000</td>\n",
       "      <td>4.000000</td>\n",
       "      <td>2146.500000</td>\n",
       "      <td>11.000000</td>\n",
       "      <td>1.000000</td>\n",
       "      <td>1.000000</td>\n",
       "      <td>10.000000</td>\n",
       "      <td>141.000000</td>\n",
       "      <td>1.500000</td>\n",
       "    </tr>\n",
       "    <tr>\n",
       "      <th>75%</th>\n",
       "      <td>1615.250000</td>\n",
       "      <td>48.000000</td>\n",
       "      <td>7.000000</td>\n",
       "      <td>7.000000</td>\n",
       "      <td>3064.500000</td>\n",
       "      <td>16.000000</td>\n",
       "      <td>1.000000</td>\n",
       "      <td>1.000000</td>\n",
       "      <td>15.000000</td>\n",
       "      <td>170.000000</td>\n",
       "      <td>2.250000</td>\n",
       "    </tr>\n",
       "    <tr>\n",
       "      <th>max</th>\n",
       "      <td>1998.000000</td>\n",
       "      <td>64.000000</td>\n",
       "      <td>19.000000</td>\n",
       "      <td>8.000000</td>\n",
       "      <td>3998.000000</td>\n",
       "      <td>20.000000</td>\n",
       "      <td>1.000000</td>\n",
       "      <td>1.000000</td>\n",
       "      <td>20.000000</td>\n",
       "      <td>200.000000</td>\n",
       "      <td>3.000000</td>\n",
       "    </tr>\n",
       "  </tbody>\n",
       "</table>\n",
       "</div>"
      ],
      "text/plain": [
       "       battery_power   int_memory           fc      n_cores          ram  \\\n",
       "count    2000.000000  2000.000000  2000.000000  2000.000000  2000.000000   \n",
       "mean     1238.518500    32.046500     4.309500     4.520500  2124.213000   \n",
       "std       439.418206    18.145715     4.341444     2.287837  1084.732044   \n",
       "min       501.000000     2.000000     0.000000     1.000000   256.000000   \n",
       "25%       851.750000    16.000000     1.000000     3.000000  1207.500000   \n",
       "50%      1226.000000    32.000000     3.000000     4.000000  2146.500000   \n",
       "75%      1615.250000    48.000000     7.000000     7.000000  3064.500000   \n",
       "max      1998.000000    64.000000    19.000000     8.000000  3998.000000   \n",
       "\n",
       "         talk_time     dual_sim         wifi           pc    mobile_wt  \\\n",
       "count  2000.000000  2000.000000  2000.000000  2000.000000  2000.000000   \n",
       "mean     11.011000     0.509500     0.507000     9.916500   140.249000   \n",
       "std       5.463955     0.500035     0.500076     6.064315    35.399655   \n",
       "min       2.000000     0.000000     0.000000     0.000000    80.000000   \n",
       "25%       6.000000     0.000000     0.000000     5.000000   109.000000   \n",
       "50%      11.000000     1.000000     1.000000    10.000000   141.000000   \n",
       "75%      16.000000     1.000000     1.000000    15.000000   170.000000   \n",
       "max      20.000000     1.000000     1.000000    20.000000   200.000000   \n",
       "\n",
       "       price_range  \n",
       "count  2000.000000  \n",
       "mean      1.500000  \n",
       "std       1.118314  \n",
       "min       0.000000  \n",
       "25%       0.750000  \n",
       "50%       1.500000  \n",
       "75%       2.250000  \n",
       "max       3.000000  "
      ]
     },
     "execution_count": 76,
     "metadata": {},
     "output_type": "execute_result"
    }
   ],
   "source": [
    "raw_data.describe()"
   ]
  },
  {
   "cell_type": "markdown",
   "id": "ed660d9c",
   "metadata": {},
   "source": [
    "# Data Distrubution"
   ]
  },
  {
   "cell_type": "code",
   "execution_count": 77,
   "id": "1515da14",
   "metadata": {},
   "outputs": [
    {
     "data": {
      "text/plain": [
       "<AxesSubplot:xlabel='price_range', ylabel='count'>"
      ]
     },
     "execution_count": 77,
     "metadata": {},
     "output_type": "execute_result"
    },
    {
     "data": {
      "image/png": "[encoded data removed]",
      "text/plain": [
       "<Figure size 360x360 with 1 Axes>"
      ]
     },
     "metadata": {},
     "output_type": "display_data"
    }
   ],
   "source": [
    "sns.countplot(x='price_range', data=raw_data)"
   ]
  },
  {
   "cell_type": "code",
   "execution_count": 78,
   "id": "c5e125ab",
   "metadata": {},
   "outputs": [
    {
     "data": {
      "image/png": "[encoded data removed]",
      "text/plain": [
       "<Figure size 360x360 with 1 Axes>"
      ]
     },
     "metadata": {},
     "output_type": "display_data"
    }
   ],
   "source": [
    "sns.set(rc={'figure.figsize':(5,5)})\n",
    "ax=sns.displot(data=raw_data[\"n_cores\"])\n",
    "plt.show()"
   ]
  },
  {
   "cell_type": "code",
   "execution_count": 79,
   "id": "a3adaa78",
   "metadata": {},
   "outputs": [
    {
     "data": {
      "image/png": "[encoded data removed]",
      "text/plain": [
       "<Figure size 360x360 with 1 Axes>"
      ]
     },
     "metadata": {},
     "output_type": "display_data"
    }
   ],
   "source": [
    "labels = [\"Wifi-supported\",\"Not supported\"]\n",
    "values=raw_data['wifi'].value_counts().values\n",
    "fig1, ax1 = plt.subplots()\n",
    "ax1.pie(values, labels=labels, autopct='%1.1f%%',shadow=True,startangle=90)\n",
    "plt.show()"
   ]
  },
  {
   "cell_type": "markdown",
   "id": "537c84a4",
   "metadata": {},
   "source": [
    "# Data Visulization"
   ]
  },
  {
   "cell_type": "code",
   "execution_count": 80,
   "id": "ea2cfe2c",
   "metadata": {},
   "outputs": [
    {
     "data": {
      "image/png": "[encoded data removed]",
      "text/plain": [
       "<Figure size 1008x720 with 2 Axes>"
      ]
     },
     "metadata": {},
     "output_type": "display_data"
    }
   ],
   "source": [
    "plt.figure(figsize=(14,10))\n",
    "sns.heatmap(raw_data.corr(), annot=True, fmt=\".2f\");"
   ]
  },
  {
   "cell_type": "markdown",
   "id": "fe3d6435",
   "metadata": {},
   "source": [
    "# Price range according to the no of cores and battery power"
   ]
  },
  {
   "cell_type": "code",
   "execution_count": 81,
   "id": "d334e785",
   "metadata": {},
   "outputs": [
    {
     "data": {
      "image/png": "[encoded data removed]",
      "text/plain": [
       "<Figure size 1080x432 with 1 Axes>"
      ]
     },
     "metadata": {},
     "output_type": "display_data"
    }
   ],
   "source": [
    "plt.figure(figsize=(15,6));\n",
    "sns.barplot( x= \"n_cores\", y = \"battery_power\" ,hue=\"price_range\", data=raw_data)\n",
    "plt.xticks(rotation=90);"
   ]
  },
  {
   "cell_type": "markdown",
   "id": "c2ab3ae2",
   "metadata": {},
   "source": [
    "# RAM vs Price Range"
   ]
  },
  {
   "cell_type": "code",
   "execution_count": 82,
   "id": "210ecf39",
   "metadata": {},
   "outputs": [
    {
     "data": {
      "text/plain": [
       "<AxesSubplot:xlabel='price_range', ylabel='ram'>"
      ]
     },
     "execution_count": 82,
     "metadata": {},
     "output_type": "execute_result"
    },
    {
     "data": {
      "image/png": "[encoded data removed]",
      "text/plain": [
       "<Figure size 360x360 with 1 Axes>"
      ]
     },
     "metadata": {},
     "output_type": "display_data"
    }
   ],
   "source": [
    "sns.pointplot(y=\"ram\", x=\"price_range\", data=raw_data)"
   ]
  },
  {
   "cell_type": "code",
   "execution_count": 83,
   "id": "6cafd427",
   "metadata": {},
   "outputs": [
    {
     "data": {
      "image/png": "[encoded data removed]",
      "text/plain": [
       "<Figure size 360x360 with 1 Axes>"
      ]
     },
     "metadata": {},
     "output_type": "display_data"
    }
   ],
   "source": [
    "sns.catplot(x=\"price_range\",y=\"ram\",data=raw_data)\n",
    "plt.xticks(rotation=90);"
   ]
  },
  {
   "cell_type": "markdown",
   "id": "46e6db78",
   "metadata": {},
   "source": []
  },
  {
   "cell_type": "markdown",
   "id": "5617a295",
   "metadata": {},
   "source": [
    "# Split tha data"
   ]
  },
  {
   "cell_type": "code",
   "execution_count": 84,
   "id": "ca8d2d14",
   "metadata": {},
   "outputs": [],
   "source": [
    "X = raw_data.drop('price_range',axis=1)\n",
    "y = raw_data['price_range']"
   ]
  },
  {
   "cell_type": "code",
   "execution_count": 85,
   "id": "369123db",
   "metadata": {},
   "outputs": [],
   "source": [
    "X_train,X_test,y_train,y_test=train_test_split(X,y,test_size=0.1,random_state=120)"
   ]
  },
  {
   "cell_type": "code",
   "execution_count": 86,
   "id": "e386ae5a",
   "metadata": {},
   "outputs": [],
   "source": [
    "scaler=StandardScaler()\n",
    "X_train=pd.DataFrame(scaler.fit_transform(X_train))\n",
    "X_test=pd.DataFrame(scaler.fit_transform(X_test))"
   ]
  },
  {
   "cell_type": "code",
   "execution_count": 87,
   "id": "ad015578",
   "metadata": {},
   "outputs": [
    {
     "data": {
      "text/html": [
       "<div>\n",
       "<style scoped>\n",
       "    .dataframe tbody tr th:only-of-type {\n",
       "        vertical-align: middle;\n",
       "    }\n",
       "\n",
       "    .dataframe tbody tr th {\n",
       "        vertical-align: top;\n",
       "    }\n",
       "\n",
       "    .dataframe thead th {\n",
       "        text-align: right;\n",
       "    }\n",
       "</style>\n",
       "<table border=\"1\" class=\"dataframe\">\n",
       "  <thead>\n",
       "    <tr style=\"text-align: right;\">\n",
       "      <th></th>\n",
       "      <th>0</th>\n",
       "      <th>1</th>\n",
       "      <th>2</th>\n",
       "      <th>3</th>\n",
       "      <th>4</th>\n",
       "      <th>5</th>\n",
       "      <th>6</th>\n",
       "      <th>7</th>\n",
       "      <th>8</th>\n",
       "      <th>9</th>\n",
       "    </tr>\n",
       "  </thead>\n",
       "  <tbody>\n",
       "    <tr>\n",
       "      <th>0</th>\n",
       "      <td>-1.405466</td>\n",
       "      <td>-1.611601</td>\n",
       "      <td>-0.760358</td>\n",
       "      <td>1.521567</td>\n",
       "      <td>1.305388</td>\n",
       "      <td>-1.468024</td>\n",
       "      <td>-1.016808</td>\n",
       "      <td>0.991150</td>\n",
       "      <td>-0.482307</td>\n",
       "      <td>-1.077406</td>\n",
       "    </tr>\n",
       "    <tr>\n",
       "      <th>1</th>\n",
       "      <td>-0.534595</td>\n",
       "      <td>-0.616824</td>\n",
       "      <td>0.162064</td>\n",
       "      <td>1.521567</td>\n",
       "      <td>-0.762504</td>\n",
       "      <td>0.177788</td>\n",
       "      <td>0.983470</td>\n",
       "      <td>-1.008929</td>\n",
       "      <td>0.342463</td>\n",
       "      <td>1.265736</td>\n",
       "    </tr>\n",
       "    <tr>\n",
       "      <th>2</th>\n",
       "      <td>-0.582220</td>\n",
       "      <td>-0.229966</td>\n",
       "      <td>2.006909</td>\n",
       "      <td>-0.222905</td>\n",
       "      <td>-0.903076</td>\n",
       "      <td>1.274996</td>\n",
       "      <td>-1.016808</td>\n",
       "      <td>-1.008929</td>\n",
       "      <td>1.662095</td>\n",
       "      <td>1.181044</td>\n",
       "    </tr>\n",
       "    <tr>\n",
       "      <th>3</th>\n",
       "      <td>1.445278</td>\n",
       "      <td>-0.782620</td>\n",
       "      <td>-0.068541</td>\n",
       "      <td>-0.659023</td>\n",
       "      <td>1.116725</td>\n",
       "      <td>-0.736552</td>\n",
       "      <td>-1.016808</td>\n",
       "      <td>-1.008929</td>\n",
       "      <td>-0.812215</td>\n",
       "      <td>-0.061104</td>\n",
       "    </tr>\n",
       "    <tr>\n",
       "      <th>4</th>\n",
       "      <td>-1.437217</td>\n",
       "      <td>0.654281</td>\n",
       "      <td>2.468120</td>\n",
       "      <td>-1.531259</td>\n",
       "      <td>0.421262</td>\n",
       "      <td>0.726392</td>\n",
       "      <td>-1.016808</td>\n",
       "      <td>0.991150</td>\n",
       "      <td>1.002279</td>\n",
       "      <td>-0.653947</td>\n",
       "    </tr>\n",
       "    <tr>\n",
       "      <th>...</th>\n",
       "      <td>...</td>\n",
       "      <td>...</td>\n",
       "      <td>...</td>\n",
       "      <td>...</td>\n",
       "      <td>...</td>\n",
       "      <td>...</td>\n",
       "      <td>...</td>\n",
       "      <td>...</td>\n",
       "      <td>...</td>\n",
       "      <td>...</td>\n",
       "    </tr>\n",
       "    <tr>\n",
       "      <th>1795</th>\n",
       "      <td>1.107361</td>\n",
       "      <td>1.538528</td>\n",
       "      <td>3.159937</td>\n",
       "      <td>-0.222905</td>\n",
       "      <td>-0.837414</td>\n",
       "      <td>1.640732</td>\n",
       "      <td>0.983470</td>\n",
       "      <td>-1.008929</td>\n",
       "      <td>1.662095</td>\n",
       "      <td>0.870507</td>\n",
       "    </tr>\n",
       "    <tr>\n",
       "      <th>1796</th>\n",
       "      <td>-1.069818</td>\n",
       "      <td>-0.395762</td>\n",
       "      <td>-0.299147</td>\n",
       "      <td>-0.222905</td>\n",
       "      <td>-1.253582</td>\n",
       "      <td>1.640732</td>\n",
       "      <td>-1.016808</td>\n",
       "      <td>-1.008929</td>\n",
       "      <td>-0.647261</td>\n",
       "      <td>-1.529096</td>\n",
       "    </tr>\n",
       "    <tr>\n",
       "      <th>1797</th>\n",
       "      <td>-1.210427</td>\n",
       "      <td>-1.058947</td>\n",
       "      <td>1.545698</td>\n",
       "      <td>1.521567</td>\n",
       "      <td>-1.533801</td>\n",
       "      <td>-1.102288</td>\n",
       "      <td>-1.016808</td>\n",
       "      <td>0.991150</td>\n",
       "      <td>0.837325</td>\n",
       "      <td>-1.670249</td>\n",
       "    </tr>\n",
       "    <tr>\n",
       "      <th>1798</th>\n",
       "      <td>1.211685</td>\n",
       "      <td>-0.948416</td>\n",
       "      <td>-0.990963</td>\n",
       "      <td>-0.222905</td>\n",
       "      <td>-0.530374</td>\n",
       "      <td>-0.187948</td>\n",
       "      <td>0.983470</td>\n",
       "      <td>-1.008929</td>\n",
       "      <td>-0.482307</td>\n",
       "      <td>-1.133867</td>\n",
       "    </tr>\n",
       "    <tr>\n",
       "      <th>1799</th>\n",
       "      <td>-0.682008</td>\n",
       "      <td>-0.285231</td>\n",
       "      <td>0.853881</td>\n",
       "      <td>-0.222905</td>\n",
       "      <td>-1.422823</td>\n",
       "      <td>0.360656</td>\n",
       "      <td>0.983470</td>\n",
       "      <td>0.991150</td>\n",
       "      <td>-0.152399</td>\n",
       "      <td>-1.387943</td>\n",
       "    </tr>\n",
       "  </tbody>\n",
       "</table>\n",
       "<p>1800 rows × 10 columns</p>\n",
       "</div>"
      ],
      "text/plain": [
       "             0         1         2         3         4         5         6  \\\n",
       "0    -1.405466 -1.611601 -0.760358  1.521567  1.305388 -1.468024 -1.016808   \n",
       "1    -0.534595 -0.616824  0.162064  1.521567 -0.762504  0.177788  0.983470   \n",
       "2    -0.582220 -0.229966  2.006909 -0.222905 -0.903076  1.274996 -1.016808   \n",
       "3     1.445278 -0.782620 -0.068541 -0.659023  1.116725 -0.736552 -1.016808   \n",
       "4    -1.437217  0.654281  2.468120 -1.531259  0.421262  0.726392 -1.016808   \n",
       "...        ...       ...       ...       ...       ...       ...       ...   \n",
       "1795  1.107361  1.538528  3.159937 -0.222905 -0.837414  1.640732  0.983470   \n",
       "1796 -1.069818 -0.395762 -0.299147 -0.222905 -1.253582  1.640732 -1.016808   \n",
       "1797 -1.210427 -1.058947  1.545698  1.521567 -1.533801 -1.102288 -1.016808   \n",
       "1798  1.211685 -0.948416 -0.990963 -0.222905 -0.530374 -0.187948  0.983470   \n",
       "1799 -0.682008 -0.285231  0.853881 -0.222905 -1.422823  0.360656  0.983470   \n",
       "\n",
       "             7         8         9  \n",
       "0     0.991150 -0.482307 -1.077406  \n",
       "1    -1.008929  0.342463  1.265736  \n",
       "2    -1.008929  1.662095  1.181044  \n",
       "3    -1.008929 -0.812215 -0.061104  \n",
       "4     0.991150  1.002279 -0.653947  \n",
       "...        ...       ...       ...  \n",
       "1795 -1.008929  1.662095  0.870507  \n",
       "1796 -1.008929 -0.647261 -1.529096  \n",
       "1797  0.991150  0.837325 -1.670249  \n",
       "1798 -1.008929 -0.482307 -1.133867  \n",
       "1799  0.991150 -0.152399 -1.387943  \n",
       "\n",
       "[1800 rows x 10 columns]"
      ]
     },
     "execution_count": 87,
     "metadata": {},
     "output_type": "execute_result"
    }
   ],
   "source": [
    "X_train"
   ]
  },
  {
   "cell_type": "code",
   "execution_count": 88,
   "id": "098edac8",
   "metadata": {},
   "outputs": [
    {
     "data": {
      "text/html": [
       "<div>\n",
       "<style scoped>\n",
       "    .dataframe tbody tr th:only-of-type {\n",
       "        vertical-align: middle;\n",
       "    }\n",
       "\n",
       "    .dataframe tbody tr th {\n",
       "        vertical-align: top;\n",
       "    }\n",
       "\n",
       "    .dataframe thead th {\n",
       "        text-align: right;\n",
       "    }\n",
       "</style>\n",
       "<table border=\"1\" class=\"dataframe\">\n",
       "  <thead>\n",
       "    <tr style=\"text-align: right;\">\n",
       "      <th></th>\n",
       "      <th>0</th>\n",
       "      <th>1</th>\n",
       "      <th>2</th>\n",
       "      <th>3</th>\n",
       "      <th>4</th>\n",
       "      <th>5</th>\n",
       "      <th>6</th>\n",
       "      <th>7</th>\n",
       "      <th>8</th>\n",
       "      <th>9</th>\n",
       "    </tr>\n",
       "  </thead>\n",
       "  <tbody>\n",
       "    <tr>\n",
       "      <th>0</th>\n",
       "      <td>1.870643</td>\n",
       "      <td>-0.864546</td>\n",
       "      <td>-0.324631</td>\n",
       "      <td>-1.613985</td>\n",
       "      <td>-0.226259</td>\n",
       "      <td>1.135473</td>\n",
       "      <td>-1.040833</td>\n",
       "      <td>0.941697</td>\n",
       "      <td>0.519209</td>\n",
       "      <td>1.139483</td>\n",
       "    </tr>\n",
       "    <tr>\n",
       "      <th>1</th>\n",
       "      <td>0.164076</td>\n",
       "      <td>1.456746</td>\n",
       "      <td>-1.010471</td>\n",
       "      <td>0.176844</td>\n",
       "      <td>1.066343</td>\n",
       "      <td>0.950542</td>\n",
       "      <td>-1.040833</td>\n",
       "      <td>0.941697</td>\n",
       "      <td>-1.458731</td>\n",
       "      <td>-1.054570</td>\n",
       "    </tr>\n",
       "    <tr>\n",
       "      <th>2</th>\n",
       "      <td>-0.827673</td>\n",
       "      <td>-0.540645</td>\n",
       "      <td>-0.324631</td>\n",
       "      <td>0.176844</td>\n",
       "      <td>-1.469423</td>\n",
       "      <td>-0.159040</td>\n",
       "      <td>-1.040833</td>\n",
       "      <td>0.941697</td>\n",
       "      <td>-0.469761</td>\n",
       "      <td>1.680872</td>\n",
       "    </tr>\n",
       "    <tr>\n",
       "      <th>3</th>\n",
       "      <td>-1.516453</td>\n",
       "      <td>1.402762</td>\n",
       "      <td>0.361209</td>\n",
       "      <td>-0.718570</td>\n",
       "      <td>0.048801</td>\n",
       "      <td>-0.713831</td>\n",
       "      <td>0.960769</td>\n",
       "      <td>0.941697</td>\n",
       "      <td>0.354381</td>\n",
       "      <td>-1.709937</td>\n",
       "    </tr>\n",
       "    <tr>\n",
       "      <th>4</th>\n",
       "      <td>0.980672</td>\n",
       "      <td>-1.188447</td>\n",
       "      <td>-0.324631</td>\n",
       "      <td>-1.613985</td>\n",
       "      <td>0.750833</td>\n",
       "      <td>-1.453553</td>\n",
       "      <td>-1.040833</td>\n",
       "      <td>-1.061913</td>\n",
       "      <td>0.519209</td>\n",
       "      <td>-0.684146</td>\n",
       "    </tr>\n",
       "    <tr>\n",
       "      <th>...</th>\n",
       "      <td>...</td>\n",
       "      <td>...</td>\n",
       "      <td>...</td>\n",
       "      <td>...</td>\n",
       "      <td>...</td>\n",
       "      <td>...</td>\n",
       "      <td>...</td>\n",
       "      <td>...</td>\n",
       "      <td>...</td>\n",
       "      <td>...</td>\n",
       "    </tr>\n",
       "    <tr>\n",
       "      <th>195</th>\n",
       "      <td>0.748711</td>\n",
       "      <td>0.916910</td>\n",
       "      <td>0.361209</td>\n",
       "      <td>0.176844</td>\n",
       "      <td>0.637573</td>\n",
       "      <td>0.025890</td>\n",
       "      <td>-1.040833</td>\n",
       "      <td>0.941697</td>\n",
       "      <td>0.684038</td>\n",
       "      <td>0.056703</td>\n",
       "    </tr>\n",
       "    <tr>\n",
       "      <th>196</th>\n",
       "      <td>-1.213484</td>\n",
       "      <td>-1.566332</td>\n",
       "      <td>-1.010471</td>\n",
       "      <td>-0.718570</td>\n",
       "      <td>-1.547626</td>\n",
       "      <td>-0.528901</td>\n",
       "      <td>-1.040833</td>\n",
       "      <td>0.941697</td>\n",
       "      <td>-1.293902</td>\n",
       "      <td>-1.481983</td>\n",
       "    </tr>\n",
       "    <tr>\n",
       "      <th>197</th>\n",
       "      <td>0.462311</td>\n",
       "      <td>0.808943</td>\n",
       "      <td>-1.010471</td>\n",
       "      <td>1.072259</td>\n",
       "      <td>0.248354</td>\n",
       "      <td>0.765612</td>\n",
       "      <td>0.960769</td>\n",
       "      <td>0.941697</td>\n",
       "      <td>-1.458731</td>\n",
       "      <td>-0.085768</td>\n",
       "    </tr>\n",
       "    <tr>\n",
       "      <th>198</th>\n",
       "      <td>0.968837</td>\n",
       "      <td>1.780647</td>\n",
       "      <td>0.589823</td>\n",
       "      <td>-0.270863</td>\n",
       "      <td>-1.053237</td>\n",
       "      <td>-0.343971</td>\n",
       "      <td>-1.040833</td>\n",
       "      <td>-1.061913</td>\n",
       "      <td>0.354381</td>\n",
       "      <td>1.139483</td>\n",
       "    </tr>\n",
       "    <tr>\n",
       "      <th>199</th>\n",
       "      <td>-1.002826</td>\n",
       "      <td>-0.054793</td>\n",
       "      <td>-0.324631</td>\n",
       "      <td>0.176844</td>\n",
       "      <td>1.593991</td>\n",
       "      <td>-0.713831</td>\n",
       "      <td>-1.040833</td>\n",
       "      <td>-1.061913</td>\n",
       "      <td>1.178523</td>\n",
       "      <td>0.199174</td>\n",
       "    </tr>\n",
       "  </tbody>\n",
       "</table>\n",
       "<p>200 rows × 10 columns</p>\n",
       "</div>"
      ],
      "text/plain": [
       "            0         1         2         3         4         5         6  \\\n",
       "0    1.870643 -0.864546 -0.324631 -1.613985 -0.226259  1.135473 -1.040833   \n",
       "1    0.164076  1.456746 -1.010471  0.176844  1.066343  0.950542 -1.040833   \n",
       "2   -0.827673 -0.540645 -0.324631  0.176844 -1.469423 -0.159040 -1.040833   \n",
       "3   -1.516453  1.402762  0.361209 -0.718570  0.048801 -0.713831  0.960769   \n",
       "4    0.980672 -1.188447 -0.324631 -1.613985  0.750833 -1.453553 -1.040833   \n",
       "..        ...       ...       ...       ...       ...       ...       ...   \n",
       "195  0.748711  0.916910  0.361209  0.176844  0.637573  0.025890 -1.040833   \n",
       "196 -1.213484 -1.566332 -1.010471 -0.718570 -1.547626 -0.528901 -1.040833   \n",
       "197  0.462311  0.808943 -1.010471  1.072259  0.248354  0.765612  0.960769   \n",
       "198  0.968837  1.780647  0.589823 -0.270863 -1.053237 -0.343971 -1.040833   \n",
       "199 -1.002826 -0.054793 -0.324631  0.176844  1.593991 -0.713831 -1.040833   \n",
       "\n",
       "            7         8         9  \n",
       "0    0.941697  0.519209  1.139483  \n",
       "1    0.941697 -1.458731 -1.054570  \n",
       "2    0.941697 -0.469761  1.680872  \n",
       "3    0.941697  0.354381 -1.709937  \n",
       "4   -1.061913  0.519209 -0.684146  \n",
       "..        ...       ...       ...  \n",
       "195  0.941697  0.684038  0.056703  \n",
       "196  0.941697 -1.293902 -1.481983  \n",
       "197  0.941697 -1.458731 -0.085768  \n",
       "198 -1.061913  0.354381  1.139483  \n",
       "199 -1.061913  1.178523  0.199174  \n",
       "\n",
       "[200 rows x 10 columns]"
      ]
     },
     "execution_count": 88,
     "metadata": {},
     "output_type": "execute_result"
    }
   ],
   "source": [
    "X_test"
   ]
  },
  {
   "cell_type": "markdown",
   "id": "8ee70825",
   "metadata": {},
   "source": [
    "#  Alogorithms For Regression"
   ]
  },
  {
   "cell_type": "markdown",
   "id": "acef5143",
   "metadata": {},
   "source": [
    "# Decision Tree "
   ]
  },
  {
   "cell_type": "code",
   "execution_count": 89,
   "id": "b02ea499",
   "metadata": {},
   "outputs": [],
   "source": [
    "from sklearn.tree import DecisionTreeRegressor"
   ]
  },
  {
   "cell_type": "code",
   "execution_count": 141,
   "id": "c562d4f5",
   "metadata": {},
   "outputs": [],
   "source": [
    "model=DecisionTreeRegressor(max_depth=2)"
   ]
  },
  {
   "cell_type": "code",
   "execution_count": 142,
   "id": "9e9d8b59",
   "metadata": {},
   "outputs": [
    {
     "data": {
      "text/plain": [
       "DecisionTreeRegressor(max_depth=2)"
      ]
     },
     "execution_count": 142,
     "metadata": {},
     "output_type": "execute_result"
    }
   ],
   "source": [
    "model.fit(X_train,y_train)"
   ]
  },
  {
   "cell_type": "code",
   "execution_count": 143,
   "id": "20b84a44",
   "metadata": {},
   "outputs": [],
   "source": [
    "from sklearn.metrics import mean_absolute_error, mean_squared_error, r2_score"
   ]
  },
  {
   "cell_type": "code",
   "execution_count": 144,
   "id": "8fd25ee1",
   "metadata": {},
   "outputs": [
    {
     "data": {
      "text/plain": [
       "[Text(0.5, 0.8333333333333334, 'X[4] <= 0.102\\nsquared_error = 1.246\\nsamples = 1800\\nvalue = 1.502'),\n",
       " Text(0.25, 0.5, 'X[4] <= -0.943\\nsquared_error = 0.451\\nsamples = 942\\nvalue = 0.635'),\n",
       " Text(0.125, 0.16666666666666666, 'squared_error = 0.097\\nsamples = 403\\nvalue = 0.109'),\n",
       " Text(0.375, 0.16666666666666666, 'squared_error = 0.354\\nsamples = 539\\nvalue = 1.028'),\n",
       " Text(0.75, 0.5, 'X[4] <= 0.821\\nsquared_error = 0.385\\nsamples = 858\\nvalue = 2.455'),\n",
       " Text(0.625, 0.16666666666666666, 'squared_error = 0.311\\nsamples = 389\\nvalue = 2.008'),\n",
       " Text(0.875, 0.16666666666666666, 'squared_error = 0.144\\nsamples = 469\\nvalue = 2.825')]"
      ]
     },
     "execution_count": 144,
     "metadata": {},
     "output_type": "execute_result"
    },
    {
     "data": {
      "image/png": "[encoded data removed]",
      "text/plain": [
       "<Figure size 864x576 with 1 Axes>"
      ]
     },
     "metadata": {},
     "output_type": "display_data"
    }
   ],
   "source": [
    "from sklearn import tree\n",
    "plt.figure(figsize=(12,8))\n",
    "tree.plot_tree(model, filled=True,)"
   ]
  },
  {
   "cell_type": "code",
   "execution_count": 145,
   "id": "414b9147",
   "metadata": {},
   "outputs": [],
   "source": [
    "y_pre=model.predict(X_test)"
   ]
  },
  {
   "cell_type": "code",
   "execution_count": 146,
   "id": "79955152",
   "metadata": {},
   "outputs": [
    {
     "data": {
      "text/plain": [
       "array([1.02782931, 2.82515991, 0.10918114, 1.02782931, 2.00771208,\n",
       "       1.02782931, 2.00771208, 2.00771208, 2.82515991, 1.02782931,\n",
       "       0.10918114, 2.82515991, 2.82515991, 2.82515991, 1.02782931,\n",
       "       2.82515991, 1.02782931, 1.02782931, 1.02782931, 2.82515991,\n",
       "       0.10918114, 0.10918114, 1.02782931, 0.10918114, 1.02782931,\n",
       "       2.82515991, 2.82515991, 2.82515991, 0.10918114, 1.02782931,\n",
       "       0.10918114, 1.02782931, 0.10918114, 0.10918114, 2.00771208,\n",
       "       1.02782931, 0.10918114, 2.82515991, 0.10918114, 1.02782931,\n",
       "       2.82515991, 1.02782931, 2.82515991, 2.00771208, 2.82515991,\n",
       "       1.02782931, 0.10918114, 2.00771208, 2.82515991, 1.02782931,\n",
       "       2.00771208, 2.82515991, 1.02782931, 2.82515991, 2.00771208,\n",
       "       2.82515991, 1.02782931, 0.10918114, 2.00771208, 1.02782931,\n",
       "       2.00771208, 2.00771208, 2.82515991, 1.02782931, 1.02782931,\n",
       "       2.00771208, 0.10918114, 0.10918114, 0.10918114, 2.82515991,\n",
       "       2.82515991, 2.00771208, 2.82515991, 1.02782931, 0.10918114,\n",
       "       1.02782931, 1.02782931, 2.00771208, 2.82515991, 2.82515991,\n",
       "       2.82515991, 2.00771208, 0.10918114, 2.82515991, 2.00771208,\n",
       "       2.00771208, 2.82515991, 2.00771208, 0.10918114, 2.00771208,\n",
       "       1.02782931, 2.82515991, 2.82515991, 0.10918114, 1.02782931,\n",
       "       0.10918114, 0.10918114, 1.02782931, 1.02782931, 1.02782931,\n",
       "       2.82515991, 2.00771208, 1.02782931, 2.00771208, 2.00771208,\n",
       "       2.82515991, 2.00771208, 0.10918114, 0.10918114, 2.82515991,\n",
       "       1.02782931, 2.00771208, 2.82515991, 0.10918114, 2.00771208,\n",
       "       2.82515991, 2.82515991, 0.10918114, 0.10918114, 1.02782931,\n",
       "       0.10918114, 1.02782931, 1.02782931, 1.02782931, 0.10918114,\n",
       "       1.02782931, 1.02782931, 0.10918114, 2.00771208, 0.10918114,\n",
       "       1.02782931, 0.10918114, 2.00771208, 1.02782931, 0.10918114,\n",
       "       2.82515991, 1.02782931, 0.10918114, 1.02782931, 2.00771208,\n",
       "       1.02782931, 2.00771208, 1.02782931, 1.02782931, 1.02782931,\n",
       "       2.00771208, 2.00771208, 2.82515991, 2.82515991, 2.00771208,\n",
       "       1.02782931, 2.00771208, 0.10918114, 0.10918114, 1.02782931,\n",
       "       0.10918114, 2.00771208, 2.82515991, 1.02782931, 2.82515991,\n",
       "       2.82515991, 2.82515991, 1.02782931, 2.00771208, 2.82515991,\n",
       "       2.00771208, 0.10918114, 1.02782931, 2.82515991, 1.02782931,\n",
       "       2.00771208, 0.10918114, 2.00771208, 2.82515991, 0.10918114,\n",
       "       2.00771208, 1.02782931, 1.02782931, 1.02782931, 2.00771208,\n",
       "       2.00771208, 2.82515991, 2.82515991, 1.02782931, 1.02782931,\n",
       "       2.82515991, 2.00771208, 2.82515991, 2.82515991, 1.02782931,\n",
       "       1.02782931, 0.10918114, 2.00771208, 1.02782931, 2.00771208,\n",
       "       2.00771208, 0.10918114, 2.00771208, 0.10918114, 2.82515991])"
      ]
     },
     "execution_count": 146,
     "metadata": {},
     "output_type": "execute_result"
    }
   ],
   "source": [
    "y_pre"
   ]
  },
  {
   "cell_type": "code",
   "execution_count": 147,
   "id": "ee73006a",
   "metadata": {},
   "outputs": [
    {
     "name": "stdout",
     "output_type": "stream",
     "text": [
      "Mean Squared Error: 0.1741114784141172\n",
      "Root Mean Squared Error: 0.41726667541767243\n",
      "Mean Absolute Error: 0.23783900330329483\n",
      "R-squared: 0.8649879975076635\n"
     ]
    }
   ],
   "source": [
    "from sklearn.metrics import mean_absolute_error, mean_squared_error, r2_score\n",
    "mae = mean_absolute_error(y_test, y_pre)\n",
    "mse = mean_squared_error(y_test, y_pre)\n",
    "rmse = np.sqrt(mse)\n",
    "r2 = r2_score(y_test, y_pre)\n",
    "\n",
    "print(f\"Mean Squared Error: {mse}\")\n",
    "print(f\"Root Mean Squared Error: {rmse}\")\n",
    "print(f\"Mean Absolute Error: {mae}\")\n",
    "print(f\"R-squared: {r2}\")"
   ]
  },
  {
   "cell_type": "markdown",
   "id": "3d226d37",
   "metadata": {},
   "source": [
    "# Linear Reagression"
   ]
  },
  {
   "cell_type": "code",
   "execution_count": 98,
   "id": "864053cb",
   "metadata": {},
   "outputs": [],
   "source": [
    "from sklearn.linear_model import LinearRegression\n",
    "from sklearn.model_selection import cross_val_score\n",
    "import numpy as np\n",
    "from sklearn.metrics import r2_score"
   ]
  },
  {
   "cell_type": "code",
   "execution_count": 99,
   "id": "323a9bbf",
   "metadata": {},
   "outputs": [
    {
     "data": {
      "text/plain": [
       "-0.1508100034347096"
      ]
     },
     "execution_count": 99,
     "metadata": {},
     "output_type": "execute_result"
    }
   ],
   "source": [
    "lr=LinearRegression()\n",
    "mse=cross_val_score(lr,X_train,y_train,scoring='neg_mean_squared_error',cv=5)\n",
    "np.mean(mse)"
   ]
  },
  {
   "cell_type": "code",
   "execution_count": 100,
   "id": "5ce5f8d7",
   "metadata": {},
   "outputs": [
    {
     "data": {
      "text/plain": [
       "LinearRegression()"
      ]
     },
     "execution_count": 100,
     "metadata": {},
     "output_type": "execute_result"
    }
   ],
   "source": [
    "lr.fit(X_train,y_train)"
   ]
  },
  {
   "cell_type": "code",
   "execution_count": 101,
   "id": "29e880f4",
   "metadata": {},
   "outputs": [
    {
     "data": {
      "text/plain": [
       "0.8810239443918261"
      ]
     },
     "execution_count": 101,
     "metadata": {},
     "output_type": "execute_result"
    }
   ],
   "source": [
    "lr.score(X_train,y_train)"
   ]
  },
  {
   "cell_type": "code",
   "execution_count": 102,
   "id": "452ac5d6",
   "metadata": {},
   "outputs": [],
   "source": [
    "y_pre=lr.predict(X_test)"
   ]
  },
  {
   "cell_type": "code",
   "execution_count": 103,
   "id": "21434888",
   "metadata": {},
   "outputs": [],
   "source": [
    "s=r2_score(y_pre,y_test)"
   ]
  },
  {
   "cell_type": "code",
   "execution_count": 104,
   "id": "8516b872",
   "metadata": {},
   "outputs": [
    {
     "data": {
      "text/plain": [
       "0.8752720053418049"
      ]
     },
     "execution_count": 104,
     "metadata": {},
     "output_type": "execute_result"
    }
   ],
   "source": [
    "s"
   ]
  },
  {
   "cell_type": "markdown",
   "id": "6cad026d",
   "metadata": {},
   "source": [
    "# Ridge regression"
   ]
  },
  {
   "cell_type": "code",
   "execution_count": 105,
   "id": "df4ec2cd",
   "metadata": {},
   "outputs": [],
   "source": [
    "from sklearn.linear_model import Ridge"
   ]
  },
  {
   "cell_type": "code",
   "execution_count": 106,
   "id": "62eddd53",
   "metadata": {},
   "outputs": [],
   "source": [
    "ridge_model = Ridge(alpha=1.0)  \n",
    "ridge_model.fit(X_train, y_train)\n",
    "\n",
    "ridge_prediction = ridge_model.predict(X_test)"
   ]
  },
  {
   "cell_type": "code",
   "execution_count": 107,
   "id": "7be21f52",
   "metadata": {},
   "outputs": [
    {
     "name": "stdout",
     "output_type": "stream",
     "text": [
      "Mean Squared Error for Ridge: 0.13772840985380097\n"
     ]
    }
   ],
   "source": [
    "from sklearn.metrics import mean_squared_error\n",
    "\n",
    "ridge_mse = mean_squared_error(y_test, ridge_prediction)\n",
    "print('Mean Squared Error for Ridge:', ridge_mse)"
   ]
  },
  {
   "cell_type": "markdown",
   "id": "b8bba5a8",
   "metadata": {},
   "source": [
    "# Lasso Regression"
   ]
  },
  {
   "cell_type": "code",
   "execution_count": 108,
   "id": "4ee193c4",
   "metadata": {},
   "outputs": [],
   "source": [
    "from sklearn.linear_model import Lasso"
   ]
  },
  {
   "cell_type": "code",
   "execution_count": 109,
   "id": "a7a94aaa",
   "metadata": {},
   "outputs": [],
   "source": [
    "lasso_model = Lasso(alpha=1.0)  \n",
    "lasso_model.fit(X_train, y_train)\n",
    "lasso_prediction = lasso_model.predict(X_test)"
   ]
  },
  {
   "cell_type": "code",
   "execution_count": 110,
   "id": "6dba30fd",
   "metadata": {},
   "outputs": [
    {
     "name": "stdout",
     "output_type": "stream",
     "text": [
      "Mean Squared Error for Lasso: 1.2470374726689275\n"
     ]
    }
   ],
   "source": [
    "lasso_mse = mean_squared_error(y_test, lasso_prediction)\n",
    "print('Mean Squared Error for Lasso:', lasso_mse)"
   ]
  },
  {
   "cell_type": "markdown",
   "id": "0558ea23",
   "metadata": {},
   "source": [
    "# ElasticNet Regression"
   ]
  },
  {
   "cell_type": "code",
   "execution_count": 111,
   "id": "0faf01f9",
   "metadata": {},
   "outputs": [],
   "source": [
    "from sklearn.linear_model import ElasticNet\n",
    "from sklearn.metrics import mean_squared_error, r2_score"
   ]
  },
  {
   "cell_type": "code",
   "execution_count": 112,
   "id": "154976da",
   "metadata": {},
   "outputs": [],
   "source": [
    "y_pre=model.predict(X_test)"
   ]
  },
  {
   "cell_type": "code",
   "execution_count": 113,
   "id": "53b0310b",
   "metadata": {},
   "outputs": [
    {
     "name": "stdout",
     "output_type": "stream",
     "text": [
      "Mean Squared Error: 0.1741114784141172\n",
      "R-squared: 0.8649879975076635\n"
     ]
    }
   ],
   "source": [
    "mse = mean_squared_error(y_test, y_pre)\n",
    "r2 = r2_score(y_test, y_pre)\n",
    "\n",
    "print(f\"Mean Squared Error: {mse}\")\n",
    "print(f\"R-squared: {r2}\")\n"
   ]
  },
  {
   "cell_type": "markdown",
   "id": "a9c5d6e5",
   "metadata": {},
   "source": [
    "# Random Forest Regression"
   ]
  },
  {
   "cell_type": "code",
   "execution_count": 114,
   "id": "b58801bd",
   "metadata": {},
   "outputs": [],
   "source": [
    "from sklearn.ensemble import RandomForestRegressor\n",
    "from sklearn.metrics import mean_squared_error, r2_score"
   ]
  },
  {
   "cell_type": "code",
   "execution_count": 115,
   "id": "dfa2cfe1",
   "metadata": {},
   "outputs": [],
   "source": [
    "RF=RandomForestRegressor()"
   ]
  },
  {
   "cell_type": "code",
   "execution_count": 138,
   "id": "aa1c8ea6",
   "metadata": {},
   "outputs": [
    {
     "data": {
      "text/plain": [
       "array([ 1.72688687e+00,  2.92472553e+00, -1.01369217e-01,  1.02438712e+00,\n",
       "        2.73931623e+00,  1.11260140e+00,  2.28811121e+00,  2.35071659e+00,\n",
       "        2.88682413e+00,  9.48415637e-01,  3.81916046e-01,  2.02617431e+00,\n",
       "        3.04796457e+00,  2.99574852e+00,  1.22157216e+00,  3.27934813e+00,\n",
       "        1.00147867e+00,  1.03027666e+00,  6.30678475e-01,  2.97920609e+00,\n",
       "        1.35483906e-01,  2.52313316e-01,  1.11737359e+00,  2.01651696e-02,\n",
       "        1.13881958e+00,  3.01405668e+00,  2.12967873e+00,  2.95628953e+00,\n",
       "        2.45615486e-02,  5.14658570e-01,  1.37207195e-01,  1.11909115e+00,\n",
       "       -9.60853398e-02, -6.89232424e-02,  1.89793956e+00,  8.70655656e-01,\n",
       "        1.66055962e-01,  2.42891741e+00,  4.58736233e-02,  1.05464292e+00,\n",
       "        2.83888793e+00,  2.91031855e-03,  2.38437629e+00,  2.17895103e+00,\n",
       "        3.09794140e+00,  2.49179542e-01, -5.70532233e-02,  2.12102056e+00,\n",
       "        2.55074906e+00,  9.06942487e-01,  1.77028775e+00,  2.78256488e+00,\n",
       "        1.21379864e+00,  3.10250640e+00,  2.41821074e+00,  2.91453052e+00,\n",
       "        1.49734712e+00,  3.49025697e-01,  2.25986624e+00,  9.91153181e-01,\n",
       "        1.97567117e+00,  2.16301489e+00,  2.40595841e+00,  4.24342118e-02,\n",
       "        3.93141270e-01,  2.05482459e+00,  3.12221438e-01,  5.67352116e-01,\n",
       "       -5.21285087e-02,  2.97993684e+00,  2.92428541e+00,  1.96117651e+00,\n",
       "        2.28523445e+00,  9.79420960e-01,  3.10460106e-02,  8.07266176e-01,\n",
       "        1.09544826e+00,  1.82766688e+00,  2.99646306e+00,  2.92813134e+00,\n",
       "        2.06421113e+00,  2.45735836e+00,  2.57860988e-01,  2.91874480e+00,\n",
       "        2.54025126e+00,  1.86592019e+00,  2.61271310e+00,  2.01500297e+00,\n",
       "       -4.55014929e-02,  1.60039234e+00,  1.01094878e+00,  3.00521278e+00,\n",
       "        2.76489902e+00,  6.54674768e-02,  1.24001794e-01, -1.40475199e-01,\n",
       "        8.45947564e-02,  8.70671213e-01,  5.16976953e-01,  8.61156940e-01,\n",
       "        3.13549185e+00,  1.22201979e+00,  1.31631613e+00,  2.38017511e+00,\n",
       "        1.32895243e+00,  2.95755839e+00,  2.49212432e+00,  1.23874068e-01,\n",
       "        1.07881231e-02,  2.06177783e+00,  1.07139003e+00,  1.28805947e+00,\n",
       "        3.09460354e+00,  2.80030780e-02,  2.21656418e+00,  2.94316649e+00,\n",
       "        2.63141203e+00,  6.37541190e-02,  2.22576693e-01,  1.25259805e+00,\n",
       "        8.66823673e-01,  8.01458303e-03,  1.12777972e+00,  1.00146711e+00,\n",
       "       -1.18608862e-01,  9.11975324e-01,  1.36511385e-01,  7.22390190e-02,\n",
       "        1.93869936e+00,  2.16826405e-02,  1.09956264e-01,  8.10682774e-02,\n",
       "        1.39338350e+00,  1.48636234e+00,  3.22758891e-02,  2.85777903e+00,\n",
       "        1.17189968e+00,  1.04242578e-01,  1.10587358e+00,  2.24857140e+00,\n",
       "        9.01607037e-01,  1.99245298e+00,  6.18477225e-01,  8.64416659e-01,\n",
       "        1.43074989e+00,  1.30000651e+00,  2.80637670e+00,  2.94284225e+00,\n",
       "        2.93676400e+00,  2.02763724e+00,  1.11784804e+00,  2.48696446e+00,\n",
       "        4.64506559e-02, -7.55819827e-02,  1.12697649e+00,  2.64133122e-02,\n",
       "        2.38092375e+00,  3.08085275e+00,  1.29305410e+00,  2.52463031e+00,\n",
       "        2.41102147e+00,  2.97601676e+00,  5.80144823e-02,  2.00168324e+00,\n",
       "        2.94772243e+00,  2.08585286e+00,  1.40622899e-01, -1.78242370e-01,\n",
       "        2.64555573e+00,  7.80946255e-01,  1.96674466e+00,  1.06956288e-01,\n",
       "        1.95541966e+00,  3.00122881e+00,  6.92781731e-02,  2.29430056e+00,\n",
       "        1.24529290e+00, -3.79215814e-02,  9.29683506e-01,  2.17869735e+00,\n",
       "        2.40125036e+00,  3.04035878e+00,  2.30845809e+00,  9.54985797e-01,\n",
       "        3.62120628e-01,  2.88697267e+00,  1.52916527e+00,  2.45787573e+00,\n",
       "        2.98712516e+00,  1.60290766e+00,  1.35320818e+00, -2.24303529e-02,\n",
       "        1.89508259e+00,  7.79349685e-01,  1.96183920e+00,  2.25222301e+00,\n",
       "        1.15783587e-01,  1.94609392e+00,  6.14988923e-01,  2.83867002e+00],\n",
       "      dtype=float32)"
      ]
     },
     "execution_count": 138,
     "metadata": {},
     "output_type": "execute_result"
    }
   ],
   "source": [
    "y_pre=model.predict(X_test)\n",
    "y_pre"
   ]
  },
  {
   "cell_type": "code",
   "execution_count": 139,
   "id": "71ec7883",
   "metadata": {},
   "outputs": [
    {
     "name": "stdout",
     "output_type": "stream",
     "text": [
      "Mean Squared Error: 0.14934992393403324\n",
      "R-squared: 0.8841889547657931\n"
     ]
    }
   ],
   "source": [
    "mse = mean_squared_error(y_test,y_pre)\n",
    "r2 = r2_score(y_test,y_pre)\n",
    "\n",
    "print(f\"Mean Squared Error: {mse}\")\n",
    "print(f\"R-squared: {r2}\")\n"
   ]
  },
  {
   "cell_type": "markdown",
   "id": "a62c85ab",
   "metadata": {},
   "source": [
    "# Gradient Boosting Regression"
   ]
  },
  {
   "cell_type": "code",
   "execution_count": 118,
   "id": "954fac02",
   "metadata": {},
   "outputs": [],
   "source": [
    "import xgboost as xgb"
   ]
  },
  {
   "cell_type": "code",
   "execution_count": 119,
   "id": "ca795a70",
   "metadata": {},
   "outputs": [],
   "source": [
    "from sklearn.metrics import mean_squared_error"
   ]
  },
  {
   "cell_type": "code",
   "execution_count": 120,
   "id": "2a6a8423",
   "metadata": {},
   "outputs": [
    {
     "data": {
      "text/plain": [
       "XGBRegressor(base_score=None, booster=None, callbacks=None,\n",
       "             colsample_bylevel=None, colsample_bynode=None,\n",
       "             colsample_bytree=None, device=None, early_stopping_rounds=None,\n",
       "             enable_categorical=False, eval_metric=None, feature_types=None,\n",
       "             gamma=None, grow_policy=None, importance_type=None,\n",
       "             interaction_constraints=None, learning_rate=None, max_bin=None,\n",
       "             max_cat_threshold=None, max_cat_to_onehot=None,\n",
       "             max_delta_step=None, max_depth=None, max_leaves=None,\n",
       "             min_child_weight=None, missing=nan, monotone_constraints=None,\n",
       "             multi_strategy=None, n_estimators=None, n_jobs=None,\n",
       "             num_parallel_tree=None, random_state=42, ...)"
      ]
     },
     "execution_count": 120,
     "metadata": {},
     "output_type": "execute_result"
    }
   ],
   "source": [
    "model=xgb.XGBRegressor(objective=\"reg:squarederror\", random_state=42)\n",
    "model.fit(X_train, y_train)"
   ]
  },
  {
   "cell_type": "code",
   "execution_count": 121,
   "id": "3da7a69e",
   "metadata": {},
   "outputs": [],
   "source": [
    "y_pre=model.predict(X_test)"
   ]
  },
  {
   "cell_type": "code",
   "execution_count": 122,
   "id": "7ee4754c",
   "metadata": {},
   "outputs": [
    {
     "name": "stdout",
     "output_type": "stream",
     "text": [
      "Mean Squared Error: 0.14934992393403324\n"
     ]
    }
   ],
   "source": [
    "mse=mean_squared_error(y_test, y_pre)\n",
    "print(f\"Mean Squared Error: {mse}\")"
   ]
  },
  {
   "cell_type": "markdown",
   "id": "79de579c",
   "metadata": {},
   "source": [
    "# K-Nearest Neighbors (KNN) Regression"
   ]
  },
  {
   "cell_type": "code",
   "execution_count": 123,
   "id": "3d2564c5",
   "metadata": {},
   "outputs": [],
   "source": [
    "from sklearn.neighbors import KNeighborsRegressor\n",
    "from sklearn.metrics import mean_squared_error, r2_score"
   ]
  },
  {
   "cell_type": "code",
   "execution_count": 124,
   "id": "17cfc5de",
   "metadata": {},
   "outputs": [
    {
     "data": {
      "text/plain": [
       "KNeighborsRegressor(n_neighbors=4)"
      ]
     },
     "execution_count": 124,
     "metadata": {},
     "output_type": "execute_result"
    }
   ],
   "source": [
    "regressor = KNeighborsRegressor(n_neighbors=4)  \n",
    "regressor.fit(X_train, y_train)"
   ]
  },
  {
   "cell_type": "code",
   "execution_count": 125,
   "id": "e086b15f",
   "metadata": {},
   "outputs": [],
   "source": [
    "y_pre=regressor.predict(X_test)"
   ]
  },
  {
   "cell_type": "code",
   "execution_count": 126,
   "id": "0efd4b0e",
   "metadata": {},
   "outputs": [
    {
     "name": "stdout",
     "output_type": "stream",
     "text": [
      "Mean Squared Error: 0.3084375\n",
      "R-squared: 0.7608270006203475\n"
     ]
    }
   ],
   "source": [
    "mse = mean_squared_error(y_test, y_pre)\n",
    "r2 = r2_score(y_test, y_pre)\n",
    "\n",
    "print(f\"Mean Squared Error: {mse}\")\n",
    "print(f\"R-squared: {r2}\")\n"
   ]
  },
  {
   "cell_type": "markdown",
   "id": "34f7dabf",
   "metadata": {},
   "source": [
    "# Support Vector Regression (SVR)"
   ]
  },
  {
   "cell_type": "code",
   "execution_count": 127,
   "id": "df591d3f",
   "metadata": {},
   "outputs": [],
   "source": [
    "from sklearn.svm import SVR\n",
    "from sklearn.metrics import mean_squared_error, r2_score"
   ]
  },
  {
   "cell_type": "code",
   "execution_count": 128,
   "id": "859ef0a0",
   "metadata": {},
   "outputs": [
    {
     "data": {
      "text/plain": [
       "SVR()"
      ]
     },
     "execution_count": 128,
     "metadata": {},
     "output_type": "execute_result"
    }
   ],
   "source": [
    "regressor=SVR(kernel='rbf', C=1.0, gamma='scale')\n",
    "regressor.fit(X_train, y_train)"
   ]
  },
  {
   "cell_type": "code",
   "execution_count": 129,
   "id": "4296a340",
   "metadata": {},
   "outputs": [],
   "source": [
    "y_pre=regressor.predict(X_test)"
   ]
  },
  {
   "cell_type": "code",
   "execution_count": 130,
   "id": "cb468557",
   "metadata": {},
   "outputs": [
    {
     "name": "stdout",
     "output_type": "stream",
     "text": [
      "Mean Squared Error: 0.14970180530668523\n",
      "R-squared: 0.8839160938999029\n"
     ]
    }
   ],
   "source": [
    "mse = mean_squared_error(y_test, y_pre)\n",
    "r2 = r2_score(y_test, y_pre)\n",
    "\n",
    "print(f\"Mean Squared Error: {mse}\")\n",
    "print(f\"R-squared: {r2}\")\n"
   ]
  },
  {
   "cell_type": "code",
   "execution_count": 131,
   "id": "587076e1",
   "metadata": {},
   "outputs": [
    {
     "data": {
      "image/png": "[encoded data removed]",
      "text/plain": [
       "<Figure size 360x360 with 1 Axes>"
      ]
     },
     "metadata": {},
     "output_type": "display_data"
    }
   ],
   "source": [
    "import matplotlib.pyplot as plt\n",
    "\n",
    "# Create a scatter plot of the actual vs. predicted values\n",
    "\n",
    "plt.scatter(y_test, y_pre)\n",
    "plt.xlabel(\"Actual Values\")\n",
    "plt.ylabel(\"Predicted Values\")\n",
    "plt.title(\"SVR: Actual vs. Predicted\")\n",
    "plt.show()\n"
   ]
  },
  {
   "cell_type": "markdown",
   "id": "c7deaf6b",
   "metadata": {},
   "source": [
    "# Bayesian Regression"
   ]
  },
  {
   "cell_type": "code",
   "execution_count": 132,
   "id": "93acbcc9",
   "metadata": {},
   "outputs": [],
   "source": [
    "from sklearn.linear_model import BayesianRidge\n",
    "from sklearn.metrics import mean_squared_error, r2_score"
   ]
  },
  {
   "cell_type": "code",
   "execution_count": 133,
   "id": "5cb815a2",
   "metadata": {},
   "outputs": [
    {
     "data": {
      "text/plain": [
       "BayesianRidge()"
      ]
     },
     "execution_count": 133,
     "metadata": {},
     "output_type": "execute_result"
    }
   ],
   "source": [
    "bayesian_reg = BayesianRidge()\n",
    "bayesian_reg.fit(X_train, y_train)"
   ]
  },
  {
   "cell_type": "code",
   "execution_count": 134,
   "id": "eb4fc506",
   "metadata": {},
   "outputs": [],
   "source": [
    "y_pre= bayesian_reg.predict(X_test)"
   ]
  },
  {
   "cell_type": "code",
   "execution_count": 135,
   "id": "fd5c4655",
   "metadata": {},
   "outputs": [
    {
     "name": "stdout",
     "output_type": "stream",
     "text": [
      "Mean Squared Error: 0.13773862133249884\n",
      "R-squared: 0.8931927564109035\n"
     ]
    }
   ],
   "source": [
    "mse = mean_squared_error(y_test, y_pre)\n",
    "r2 = r2_score(y_test, y_pre)\n",
    "\n",
    "print(f\"Mean Squared Error: {mse}\")\n",
    "print(f\"R-squared: {r2}\")\n"
   ]
  },
  {
   "cell_type": "code",
   "execution_count": 136,
   "id": "1b538c6b",
   "metadata": {},
   "outputs": [],
   "source": [
    "# pip install dash"
   ]
  },
  {
   "cell_type": "code",
   "execution_count": 137,
   "id": "abb9d9d7",
   "metadata": {
    "scrolled": true
   },
   "outputs": [
    {
     "data": {
      "text/html": [
       "\n",
       "        <iframe\n",
       "            width=\"100%\"\n",
       "            height=\"650\"\n",
       "            src=\"http://127.0.0.1:8050/\"\n",
       "            frameborder=\"0\"\n",
       "            allowfullscreen\n",
       "            \n",
       "        ></iframe>\n",
       "        "
      ],
      "text/plain": [
       "<IPython.lib.display.IFrame at 0x18f23e72a00>"
      ]
     },
     "metadata": {},
     "output_type": "display_data"
    }
   ],
   "source": [
    "import dash\n",
    "import dash_core_components as dcc\n",
    "import dash_html_components as html\n",
    "from dash.dependencies import Input, Output\n",
    "import pandas as pd \n",
    "\n",
    "app = dash.Dash(__name__)\n",
    "\n",
    "app.layout = html.Div([\n",
    "    html.H1(\"Machine Learning Algorithm Accuracy Dashboard\", style={'color': ' cyan'}),\n",
    "    \n",
    "    dcc.Dropdown(\n",
    "        id='algorithm-selector',\n",
    "        options=[\n",
    "             {'label': 'Random Forest', 'value': 'RFR'},\n",
    "            {'label': 'Support Vector Regression', 'value': 'SVR'},\n",
    "            {'label': 'Decision Tree Regression', 'value': 'DTR'},\n",
    "            {'label': 'Linear Regression', 'value': 'LR'},\n",
    "            {'label': 'Bayesian Regression ', 'value': 'BSR'},\n",
    "            {'label': 'Ridge Regression', 'value': 'Ridge_r'},\n",
    "            {'label': 'Lasso Regression', 'value': 'Lasso_r'},\n",
    "            {'label': 'K-Nearest Neighbour Regression', 'value': 'KNN'},\n",
    "            {'label': 'Gradient Boosting Regression', 'value': 'GBR'},\n",
    "            {'label': 'ElasticNet Regression', 'value': 'ENR'},\n",
    "        ],\n",
    "        multi=True, \n",
    "        value=['random_forest'],  \n",
    "        style={'background-color': 'lightgray', 'color': 'black'},\n",
    "    ),\n",
    "    \n",
    "    dcc.Graph(\n",
    "        id='accuracy-graph',\n",
    "        style={'border': '1px solid gray', 'margin-top': '20px'},\n",
    "    ),\n",
    "])\n",
    "\n",
    "\n",
    "accuracies = {\n",
    "    'RFR':{'accuracy': 0.864, 'color': 'red'},\n",
    "    'SVR':  {'accuracy': 0.901, 'color': 'green'},\n",
    "    'DTR':  {'accuracy':  0.864, 'color': 'Yellow'},\n",
    "    'LR':  {'accuracy': 0.912, 'color': 'Purple'},\n",
    "    'BSR' : { 'accuracy': 0.923, 'color': 'Brown'},\n",
    "    'Ridge_r':  {'accuracy': 0.099, 'color': 'pink'},\n",
    "    'Lasso_r':  {'accuracy':1.247, 'color': 'blue'},\n",
    "    'KNN': {'accuracy': 0.646, 'color': 'Orange'},\n",
    "    'GBR' :{ 'accuracy': 0.079, 'color': 'black'},\n",
    "    'ENR' :{'accuracy':0.864, 'color': 'Indigo'},\n",
    "}\n",
    "\n",
    "\n",
    "@app.callback(\n",
    "    Output('accuracy-graph', 'figure'),\n",
    "    Input('algorithm-selector', 'value')\n",
    ")\n",
    "def update_accuracy_graph(selected_algorithms):\n",
    "    data = []\n",
    "    colors = []\n",
    "    for algorithm in selected_algorithms:\n",
    "        accuracy_data = accuracies.get(algorithm, {'accuracy': 0.0, 'color': 'gray'})\n",
    "        accuracy = accuracy_data['accuracy']\n",
    "        color = accuracy_data['color']\n",
    "        data.append({'Algorithm': algorithm, 'Accuracy': accuracy})\n",
    "        colors.append(color)\n",
    "    \n",
    "    df = pd.DataFrame(data)\n",
    "    fig = {\n",
    "        'data': [\n",
    "            {\n",
    "                'x': df['Algorithm'],\n",
    "                'y': df['Accuracy'],\n",
    "                'type': 'bar',\n",
    "                'name': 'Accuracy',\n",
    "                'marker': {'color': colors}  # Assign individual colors\n",
    "            },\n",
    "        ],\n",
    "        'layout': {\n",
    "            'title': 'Algorithm Accuracy Comparison',\n",
    "            'bargap': 0.3, \n",
    "            'bargroupgap': 0.2 \n",
    "        }\n",
    "    }\n",
    "    return fig\n",
    "\n",
    "if __name__ == '__main__':\n",
    "    app.run_server(debug=True)"
   ]
  },
  {
   "cell_type": "code",
   "execution_count": null,
   "id": "9facd399",
   "metadata": {},
   "outputs": [],
   "source": []
  }
 ],
 "metadata": {
  "kernelspec": {
   "display_name": "Python 3 (ipykernel)",
   "language": "python",
   "name": "python3"
  },
  "language_info": {
   "codemirror_mode": {
    "name": "ipython",
    "version": 3
   },
   "file_extension": ".py",
   "mimetype": "text/x-python",
   "name": "python",
   "nbconvert_exporter": "python",
   "pygments_lexer": "ipython3",
   "version": "3.9.12"
  }
 },
 "nbformat": 4,
 "nbformat_minor": 5
}
